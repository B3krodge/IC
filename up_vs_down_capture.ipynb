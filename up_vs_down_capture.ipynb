{
 "cells": [
  {
   "cell_type": "code",
   "execution_count": null,
   "metadata": {},
   "outputs": [],
   "source": [
    "\n",
    "!pip install polygon-api-client\n",
    "!pip install aiohttp"
   ]
  },
  {
   "cell_type": "code",
   "execution_count": null,
   "metadata": {},
   "outputs": [],
   "source": []
  },
  {
   "cell_type": "code",
   "execution_count": null,
   "metadata": {},
   "outputs": [],
   "source": [
    "import polygon\n",
    "import requests\n",
    "import csv\n",
    "import pandas as pd"
   ]
  },
  {
   "cell_type": "code",
   "execution_count": null,
   "metadata": {},
   "outputs": [],
   "source": []
  },
  {
   "cell_type": "code",
   "execution_count": null,
   "metadata": {},
   "outputs": [],
   "source": [
    "POLYGON_KEY = \"lN1BMdYyT8HI_Bm0pXW2tH5xzyTgv5SX\""
   ]
  },
  {
   "cell_type": "code",
   "execution_count": null,
   "metadata": {},
   "outputs": [],
   "source": [
    "def get_data(from_date, to_date):\n",
    "  symbol = 'AAPL'\n",
    "\n",
    "# build the API endpoint URL with the specified parameters\n",
    "  url = f'https://api.polygon.io/v2/aggs/ticker/{symbol}/range/1/day/{from_date}/{to_date}?apiKey={POLYGON_KEY}'\n",
    "\n",
    "  response = requests.get(url)\n",
    "  data = response.json()\n",
    "\n",
    "# extract the daily stock prices from the API response\n",
    "  daily_prices = data['results']\n",
    "\n",
    "# write the daily prices to a CSV file\n",
    "  with open('apple_prices.csv', mode='w', newline='') as file:\n",
    "      writer = csv.writer(file)\n",
    "      writer.writerow(['Date', 'Closing Price'])\n",
    "      for price in daily_prices:\n",
    "          date = price['t']\n",
    "          closing_price = price['c']\n",
    "          writer.writerow([date, closing_price])\n",
    "          df = pd.read_csv('apple_prices.csv')\n",
    "\n",
    "# # print the DataFrame to the console\n",
    "#   print(df)"
   ]
  },
  {
   "cell_type": "code",
   "execution_count": null,
   "metadata": {},
   "outputs": [],
   "source": [
    "get_data('2020-03-28','2022-03-28')"
   ]
  }
 ],
 "metadata": {
  "language_info": {
   "name": "python"
  },
  "orig_nbformat": 4
 },
 "nbformat": 4,
 "nbformat_minor": 2
}
